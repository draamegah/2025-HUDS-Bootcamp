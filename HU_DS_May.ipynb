{
  "nbformat": 4,
  "nbformat_minor": 0,
  "metadata": {
    "colab": {
      "provenance": []
    },
    "kernelspec": {
      "name": "python3",
      "display_name": "Python 3"
    },
    "language_info": {
      "name": "python"
    }
  },
  "cells": [
    {
      "cell_type": "code",
      "execution_count": null,
      "metadata": {
        "colab": {
          "base_uri": "https://localhost:8080/"
        },
        "id": "za5YrfTrZyRP",
        "outputId": "cdad6983-2e03-44b6-f820-02db87f7f4c6"
      },
      "outputs": [
        {
          "output_type": "stream",
          "name": "stdout",
          "text": [
            "Hello, Black World!\n"
          ]
        }
      ],
      "source": [
        "# Let's create our first print statement\n",
        "print(\"Hello, Black World!\")"
      ]
    },
    {
      "cell_type": "code",
      "source": [
        "# same code with the single quotes\n",
        "print('Hello, Black World!')"
      ],
      "metadata": {
        "colab": {
          "base_uri": "https://localhost:8080/"
        },
        "id": "gT6NTsxAd9SE",
        "outputId": "538a3454-a54c-4e89-d9ad-fbf07b2e6523"
      },
      "execution_count": null,
      "outputs": [
        {
          "output_type": "stream",
          "name": "stdout",
          "text": [
            "Hello, Black World!\n"
          ]
        }
      ]
    },
    {
      "cell_type": "code",
      "source": [
        "# Let's print the value of the pi from the math module\n",
        "# improt the math module\n",
        "import math\n",
        "print(math.pi)"
      ],
      "metadata": {
        "colab": {
          "base_uri": "https://localhost:8080/"
        },
        "id": "bcjmuOGLeyoz",
        "outputId": "3a9e7e1b-f957-4dfc-cc52-d171ca9666bf"
      },
      "execution_count": null,
      "outputs": [
        {
          "output_type": "stream",
          "name": "stdout",
          "text": [
            "3.141592653589793\n"
          ]
        }
      ]
    },
    {
      "cell_type": "code",
      "source": [
        "# Let's create a variable with the value of pi from the math module\n",
        "pi = math.pi"
      ],
      "metadata": {
        "id": "J4Hu2Wqzfdq6"
      },
      "execution_count": null,
      "outputs": []
    },
    {
      "cell_type": "code",
      "source": [
        "# Print the value stored in the variable pi\n",
        "print(pi)"
      ],
      "metadata": {
        "colab": {
          "base_uri": "https://localhost:8080/"
        },
        "id": "00dcEa2pf5_Z",
        "outputId": "33ef389a-a1da-4ee2-8c21-c754fad20dcd"
      },
      "execution_count": null,
      "outputs": [
        {
          "output_type": "stream",
          "name": "stdout",
          "text": [
            "3.141592653589793\n"
          ]
        }
      ]
    },
    {
      "cell_type": "code",
      "source": [
        "#Print the value store in the value pi\n",
        "pi"
      ],
      "metadata": {
        "colab": {
          "base_uri": "https://localhost:8080/"
        },
        "id": "7V1eAwhZgY_V",
        "outputId": "d79a1cc9-ec62-4fb2-e86e-5e05ea99588e"
      },
      "execution_count": null,
      "outputs": [
        {
          "output_type": "execute_result",
          "data": {
            "text/plain": [
              "3.141592653589793"
            ]
          },
          "metadata": {},
          "execution_count": 9
        }
      ]
    },
    {
      "cell_type": "code",
      "source": [
        "\"\"\" Let's print the statement of the value of pi is\n",
        "with the value stored in the variable pi.\"\"\"\n",
        "print(\"The value of pi is: \\n\", pi)"
      ],
      "metadata": {
        "colab": {
          "base_uri": "https://localhost:8080/"
        },
        "id": "BRqHgnjfhDf4",
        "outputId": "33c61d95-58af-44ab-f2bc-bbff9b7a8bac"
      },
      "execution_count": null,
      "outputs": [
        {
          "output_type": "stream",
          "name": "stdout",
          "text": [
            "The value of pi is:  3.141592653589793\n"
          ]
        }
      ]
    },
    {
      "cell_type": "code",
      "source": [
        "# Let's describe my provide\n",
        "name = \"Alice\"\n",
        "job = \"Development Expert\"\n",
        "print(\"My name is\", name, \"and I am a\", job)"
      ],
      "metadata": {
        "colab": {
          "base_uri": "https://localhost:8080/"
        },
        "id": "fk06W3xvwF3-",
        "outputId": "d280eb0f-05b6-4bd2-c511-cb57e5a6af42"
      },
      "execution_count": null,
      "outputs": [
        {
          "output_type": "stream",
          "name": "stdout",
          "text": [
            "My name is Alice and I am a Development Expert\n"
          ]
        }
      ]
    },
    {
      "cell_type": "code",
      "source": [
        "# Let's use variable with string\n",
        "greetings = \"Hello\"\n",
        "name = \"Alice\"\n",
        "print(greetings, name)"
      ],
      "metadata": {
        "colab": {
          "base_uri": "https://localhost:8080/"
        },
        "id": "1Lqm2twlnqnh",
        "outputId": "357629b2-5a32-4a85-d7e2-ce753dac813b"
      },
      "execution_count": null,
      "outputs": [
        {
          "output_type": "stream",
          "name": "stdout",
          "text": [
            "Hello Alice\n"
          ]
        }
      ]
    },
    {
      "cell_type": "code",
      "source": [
        "# saving a value of a number for addition\n",
        "a = 1"
      ],
      "metadata": {
        "id": "9rC87pen00qn"
      },
      "execution_count": null,
      "outputs": []
    },
    {
      "cell_type": "code",
      "source": [
        "# Print the varibale\n",
        "a +=4\n",
        "print(a)"
      ],
      "metadata": {
        "colab": {
          "base_uri": "https://localhost:8080/"
        },
        "id": "JXglEQAe0-84",
        "outputId": "bd6830a2-bf96-4757-ebe0-ccae60f549ac"
      },
      "execution_count": null,
      "outputs": [
        {
          "output_type": "stream",
          "name": "stdout",
          "text": [
            "5\n"
          ]
        }
      ]
    },
    {
      "cell_type": "code",
      "source": [
        "# using different operators\n",
        "a = -12\n",
        "b = 5.7\n",
        "c = 2\n",
        "a,b,c"
      ],
      "metadata": {
        "colab": {
          "base_uri": "https://localhost:8080/"
        },
        "id": "P47VasMt1ebu",
        "outputId": "c771c3e7-8be0-416c-a312-af9285e4aef5"
      },
      "execution_count": null,
      "outputs": [
        {
          "output_type": "execute_result",
          "data": {
            "text/plain": [
              "(-12, 5.7, 2)"
            ]
          },
          "metadata": {},
          "execution_count": 7
        }
      ]
    },
    {
      "cell_type": "code",
      "source": [
        "# Print addition operator\n",
        "print(\"a + b =\", a+b)"
      ],
      "metadata": {
        "colab": {
          "base_uri": "https://localhost:8080/"
        },
        "id": "KWXW4t_811EH",
        "outputId": "d7f4b362-bf71-4cfb-dd00-f42e3a3206be"
      },
      "execution_count": null,
      "outputs": [
        {
          "output_type": "stream",
          "name": "stdout",
          "text": [
            "a + b = -6.3\n"
          ]
        }
      ]
    },
    {
      "cell_type": "code",
      "source": [
        "# multiplication * operator\n",
        "print(\"a * c =\", a*c)"
      ],
      "metadata": {
        "colab": {
          "base_uri": "https://localhost:8080/"
        },
        "id": "OpoSKK7z28A_",
        "outputId": "6ab255e8-fa05-45a7-fe62-b820cba5c1bd"
      },
      "execution_count": null,
      "outputs": [
        {
          "output_type": "stream",
          "name": "stdout",
          "text": [
            "a * c = -24\n"
          ]
        }
      ]
    },
    {
      "cell_type": "code",
      "source": [
        "# division with // operator\n",
        "print(\"a // c =\", a//c)"
      ],
      "metadata": {
        "colab": {
          "base_uri": "https://localhost:8080/"
        },
        "id": "DHjwQ1ed3kBh",
        "outputId": "6e6c0adb-6240-44d5-ee8b-f6022bbb584d"
      },
      "execution_count": null,
      "outputs": [
        {
          "output_type": "stream",
          "name": "stdout",
          "text": [
            "a // c = -6\n"
          ]
        }
      ]
    },
    {
      "cell_type": "code",
      "source": [
        "# print with string and operator\n",
        "print(greetings, name, a+b)"
      ],
      "metadata": {
        "colab": {
          "base_uri": "https://localhost:8080/"
        },
        "id": "YEF5xDqH5BIF",
        "outputId": "d5cced2e-e5d2-43a6-83e0-89d49e438880"
      },
      "execution_count": null,
      "outputs": [
        {
          "output_type": "stream",
          "name": "stdout",
          "text": [
            "Hello Alice -6.3\n"
          ]
        }
      ]
    },
    {
      "cell_type": "code",
      "source": [
        "# Equals to == operator\n",
        "a = 5\n",
        "b = 5\n",
        "c = 6\n",
        "print(\"a == b is\", a==b)\n",
        "print(\"a == c is\", a==c)"
      ],
      "metadata": {
        "colab": {
          "base_uri": "https://localhost:8080/"
        },
        "id": "UeDIoxUP5Z7w",
        "outputId": "ae1316bb-ed31-479b-e27a-1566771bd71d"
      },
      "execution_count": null,
      "outputs": [
        {
          "output_type": "stream",
          "name": "stdout",
          "text": [
            "a == b is True\n",
            "a == c is False\n"
          ]
        }
      ]
    },
    {
      "cell_type": "code",
      "source": [
        "# Assignment 2\n",
        "event = \"March on Washington for Jobs and Freedom\"\n",
        "date = \"Augusut 28, 1963\"\n",
        "print(\"Event:\", event, \"Date:\", date)"
      ],
      "metadata": {
        "colab": {
          "base_uri": "https://localhost:8080/"
        },
        "id": "jkE9KhGvL7ng",
        "outputId": "1ce1845b-7611-42ee-b0c4-dc89f3d94772"
      },
      "execution_count": null,
      "outputs": [
        {
          "output_type": "stream",
          "name": "stdout",
          "text": [
            "Event: March on Washington for Jobs and Freedom Date: Augusut 28, 1963\n"
          ]
        }
      ]
    },
    {
      "cell_type": "code",
      "source": [
        "# Assignment 2 Q4\n",
        "x = 5\n",
        "y = 10\n",
        "print(\"The value of x is\", x, \"and the value of y is\", y)"
      ],
      "metadata": {
        "colab": {
          "base_uri": "https://localhost:8080/"
        },
        "id": "VSJomfwyMwlb",
        "outputId": "8be8f8f9-887f-4469-c064-c3305a9d29b0"
      },
      "execution_count": null,
      "outputs": [
        {
          "output_type": "stream",
          "name": "stdout",
          "text": [
            "The value of x is 5 and the value of y is 10\n"
          ]
        }
      ]
    },
    {
      "cell_type": "code",
      "source": [
        "# Assignment 2 Q 5\n",
        "My_Affirmation = \"Black is beautiful\"\n",
        "print(My_Affirmation * 5)"
      ],
      "metadata": {
        "colab": {
          "base_uri": "https://localhost:8080/"
        },
        "id": "iiX0tcufNAoP",
        "outputId": "d547d2e3-5476-4585-b9eb-e4d8e488cde1"
      },
      "execution_count": null,
      "outputs": [
        {
          "output_type": "stream",
          "name": "stdout",
          "text": [
            "Black is beautifulBlack is beautifulBlack is beautifulBlack is beautifulBlack is beautiful\n"
          ]
        }
      ]
    },
    {
      "cell_type": "code",
      "source": [
        "# Assignment 2 Q 9\n",
        "x = 5\n",
        "y = 3\n",
        "print(x+y)"
      ],
      "metadata": {
        "colab": {
          "base_uri": "https://localhost:8080/"
        },
        "id": "nG6_A1gkNzkY",
        "outputId": "7aed2de4-106d-4cfb-fc8f-47bd3d8e8fcf"
      },
      "execution_count": null,
      "outputs": [
        {
          "output_type": "stream",
          "name": "stdout",
          "text": [
            "8\n"
          ]
        }
      ]
    },
    {
      "cell_type": "code",
      "source": [
        "#Elif Statement\n",
        "a = 17\n",
        "if a < 10:\n",
        "   print(\"a is less than 10\")\n",
        "elif a < 20:\n",
        "  print(\"less than 20\")\n",
        "else:\n",
        "  print(\"greater than 10\")"
      ],
      "metadata": {
        "colab": {
          "base_uri": "https://localhost:8080/"
        },
        "id": "8FPWivv3x6v8",
        "outputId": "6521caec-78b2-4576-fc90-fe0bf3c89b64"
      },
      "execution_count": 1,
      "outputs": [
        {
          "output_type": "stream",
          "name": "stdout",
          "text": [
            "less than 20\n"
          ]
        }
      ]
    },
    {
      "cell_type": "code",
      "source": [
        "# Grading using Elif statement\n",
        "grade = 82\n",
        "if grade < 60:\n",
        " print(\"You got an F.\")\n",
        "elif grade < 70:\n",
        " print(\"You got a D.\")\n",
        "elif grade < 80:\n",
        "  print(\"You got a C.\")\n",
        "elif grade < 90:\n",
        "  print(\"You got a B.\")\n",
        "else:\n",
        "  print(\"You got an A.\")"
      ],
      "metadata": {
        "colab": {
          "base_uri": "https://localhost:8080/"
        },
        "id": "ZW1F0s3pGqUf",
        "outputId": "2cf4b42a-5bdf-4ed8-d3de-2f1a45b2b620"
      },
      "execution_count": 8,
      "outputs": [
        {
          "output_type": "stream",
          "name": "stdout",
          "text": [
            "You got a B.\n"
          ]
        }
      ]
    },
    {
      "cell_type": "markdown",
      "source": [
        "This is where we can enter some text about our project\n",
        "\n",
        "# <b>Big title<b>\n",
        "## **Subtitle or section title**\n",
        "### **Subsection**\n",
        "### **Another section**\n",
        "#### **smallest section title**\n",
        "\n",
        "\n",
        "* bullet points"
      ],
      "metadata": {
        "id": "IJvUQD6taqFi"
      }
    },
    {
      "cell_type": "markdown",
      "source": [],
      "metadata": {
        "id": "tonFZeMsagPb"
      }
    }
  ]
}